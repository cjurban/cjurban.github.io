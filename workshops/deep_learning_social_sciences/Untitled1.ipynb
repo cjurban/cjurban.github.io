{
 "cells": [
  {
   "cell_type": "markdown",
   "id": "7819a74a",
   "metadata": {},
   "source": [
    "# <center>Foundations of Deep Learning for the Social Sciences:</br>Day 2 Python Tutorial</center>"
   ]
  },
  {
   "cell_type": "markdown",
   "id": "2af8ff63",
   "metadata": {},
   "source": [
    "Today, we will demonstrate how deep learning methods can be used to fit and extend traditional latent variable models used in structural equation modeling and item response theory."
   ]
  }
 ],
 "metadata": {
  "kernelspec": {
   "display_name": "Python 3 (ipykernel)",
   "language": "python",
   "name": "python3"
  },
  "language_info": {
   "codemirror_mode": {
    "name": "ipython",
    "version": 3
   },
   "file_extension": ".py",
   "mimetype": "text/x-python",
   "name": "python",
   "nbconvert_exporter": "python",
   "pygments_lexer": "ipython3",
   "version": "3.9.7"
  }
 },
 "nbformat": 4,
 "nbformat_minor": 5
}
