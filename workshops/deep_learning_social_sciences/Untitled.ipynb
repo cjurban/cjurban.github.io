{
 "cells": [
  {
   "cell_type": "markdown",
   "id": "821f196e",
   "metadata": {},
   "source": [
    "# <center>Foundations of Deep Learning for the Social Sciences:</br>Day 1 Python Tutorial</center>"
   ]
  },
  {
   "cell_type": "code",
   "execution_count": null,
   "id": "b65ce695",
   "metadata": {},
   "outputs": [],
   "source": [
    "import torch\n",
    "import keras"
   ]
  },
  {
   "cell_type": "code",
   "execution_count": null,
   "id": "f6bb43f7",
   "metadata": {},
   "outputs": [],
   "source": [
    "x = torch.tensor([6.])\n",
    "w = torch.tensor([-0.5], requires_grad = True)\n",
    "b = torch.tensor([3.], requires_grad = True)\n",
    "z = w * x + b; z.retain_grad()\n",
    "y_hat = z.sigmoid(); y_hat.retain_grad()\n",
    "y = torch.tensor([1.])\n",
    "L = -(y * y_hat.log() + (1 - y) * (1 - y_hat).log())"
   ]
  }
 ],
 "metadata": {
  "kernelspec": {
   "display_name": "Python 3 (ipykernel)",
   "language": "python",
   "name": "python3"
  },
  "language_info": {
   "codemirror_mode": {
    "name": "ipython",
    "version": 3
   },
   "file_extension": ".py",
   "mimetype": "text/x-python",
   "name": "python",
   "nbconvert_exporter": "python",
   "pygments_lexer": "ipython3",
   "version": "3.9.7"
  }
 },
 "nbformat": 4,
 "nbformat_minor": 5
}
