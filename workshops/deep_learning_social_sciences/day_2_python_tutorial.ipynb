{
 "cells": [
  {
   "cell_type": "markdown",
   "id": "87164f69",
   "metadata": {},
   "source": [
    "# <center>Foundations of Deep Learning for the Social Sciences:</br>Day 2 Python Tutorial</center>"
   ]
  },
  {
   "cell_type": "markdown",
   "id": "4382e2fb",
   "metadata": {},
   "source": [
    "Today, we will demonstrate how deep learning methods can be used to fit and extend traditional latent variable models used in [structural equation modeling](https://en.wikipedia.org/wiki/Structural_equation_modeling) and [item response theory](https://en.wikipedia.org/wiki/Item_response_theory).\n",
    "\n",
    "The methods used here come primarily from two papers. The first paper is by [van Kesteren and Oberski (2022)](#refs) and demonstrates how to fit structural equation models using backpropagation and stochastic gradient-based optimization. The second paper is by [Urban and Bauer (2021)](#refs) and demonstrates how to fit item response theory models using deep learning-based approximate inference methods. Both papers have Python packages that make using the methods convenient: these are called [tensorsem](https://github.com/vankesteren/tensorsem) and [DeepIRTools](https://github.com/cjurban/deepirtools), respectively. If you have not already installed these packages, you can do so now using:"
   ]
  },
  {
   "cell_type": "code",
   "execution_count": 3,
   "id": "2bbdde46",
   "metadata": {},
   "outputs": [
    {
     "name": "stdout",
     "output_type": "stream",
     "text": [
      "Collecting https://github.com/vankesteren/tensorsem/archive/master.zip\n",
      "  Downloading https://github.com/vankesteren/tensorsem/archive/master.zip\n",
      "\u001b[K     | 110 kB 1.5 MB/s\n",
      "\u001b[?25hRequirement already satisfied: torch in /Users/gateslab/opt/anaconda3/lib/python3.9/site-packages (from tensorsem==1.0) (1.10.1)\n",
      "Requirement already satisfied: typing_extensions in /Users/gateslab/opt/anaconda3/lib/python3.9/site-packages (from torch->tensorsem==1.0) (3.10.0.2)\n",
      "Building wheels for collected packages: tensorsem\n",
      "  Building wheel for tensorsem (setup.py) ... \u001b[?25ldone\n",
      "\u001b[?25h  Created wheel for tensorsem: filename=tensorsem-1.0-py3-none-any.whl size=19045 sha256=4520f231c9b227274fd1bdaabb29045fa30591f8eb8e263ba72d1bb5df9bb3aa\n",
      "  Stored in directory: /private/var/folders/w5/lkcb5z4n455_x8bp581kwpdc0000gn/T/pip-ephem-wheel-cache-o59op2d2/wheels/e7/a4/7d/27d5abe767a97fefdb28f2c96690064f4d5eab73409869e8b4\n",
      "Successfully built tensorsem\n",
      "Installing collected packages: tensorsem\n",
      "Successfully installed tensorsem-1.0\n",
      "Requirement already satisfied: deepirtools in /Users/gateslab/opt/anaconda3/lib/python3.9/site-packages (0.1.3)\n",
      "Requirement already satisfied: pyro-ppl in /Users/gateslab/opt/anaconda3/lib/python3.9/site-packages (from deepirtools) (1.8.0)\n",
      "Requirement already satisfied: torch in /Users/gateslab/opt/anaconda3/lib/python3.9/site-packages (from deepirtools) (1.10.1)\n",
      "Requirement already satisfied: numpy in /Users/gateslab/opt/anaconda3/lib/python3.9/site-packages (from deepirtools) (1.22.4)\n",
      "Requirement already satisfied: tqdm>=4.36 in /Users/gateslab/opt/anaconda3/lib/python3.9/site-packages (from pyro-ppl->deepirtools) (4.62.3)\n",
      "Requirement already satisfied: opt-einsum>=2.3.2 in /Users/gateslab/opt/anaconda3/lib/python3.9/site-packages (from pyro-ppl->deepirtools) (3.3.0)\n",
      "Requirement already satisfied: pyro-api>=0.1.1 in /Users/gateslab/opt/anaconda3/lib/python3.9/site-packages (from pyro-ppl->deepirtools) (0.1.2)\n",
      "Requirement already satisfied: typing_extensions in /Users/gateslab/opt/anaconda3/lib/python3.9/site-packages (from torch->deepirtools) (3.10.0.2)\n"
     ]
    }
   ],
   "source": [
    "!pip install https://github.com/vankesteren/tensorsem/archive/master.zip\n",
    "!pip install deepirtools"
   ]
  },
  {
   "cell_type": "markdown",
   "id": "b86a4a95",
   "metadata": {},
   "source": [
    "## References <a id='refs'></a>\n",
    "\n",
    "- Urban, C. J., & Bauer, D. J. (2021). A deep learning algorithm for high-dimensional exploratory item factor analysis. *Psychometrika*, *86*(1), 1–29.\n",
    "\n",
    "- van Kesteren, E.-J., & Oberski, D. L. (2022). Flexible extensions to structural equation models using computation graphs. *Structural Equation Modeling: A Multidisciplinary Journal*, *29*(2), 233 &ndash; 247."
   ]
  },
  {
   "cell_type": "code",
   "execution_count": null,
   "id": "8a255f89",
   "metadata": {},
   "outputs": [],
   "source": []
  }
 ],
 "metadata": {
  "kernelspec": {
   "display_name": "Python 3 (ipykernel)",
   "language": "python",
   "name": "python3"
  },
  "language_info": {
   "codemirror_mode": {
    "name": "ipython",
    "version": 3
   },
   "file_extension": ".py",
   "mimetype": "text/x-python",
   "name": "python",
   "nbconvert_exporter": "python",
   "pygments_lexer": "ipython3",
   "version": "3.9.7"
  }
 },
 "nbformat": 4,
 "nbformat_minor": 5
}
