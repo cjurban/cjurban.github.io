{
 "cells": [
  {
   "cell_type": "markdown",
   "id": "3524326a",
   "metadata": {},
   "source": [
    "# <center>Foundations of Deep Learning for the Social Sciences:</br>Day 1 Python Tutorial</center>"
   ]
  },
  {
   "cell_type": "markdown",
   "id": "1d36e711",
   "metadata": {},
   "source": [
    "This notebook will explore the concepts and models we discussed today using the [Keras](https://keras.io/) and [PyTorch](https://pytorch.org/) Python packages.\n",
    "\n",
    "Familiarity with Python may be helpful but is not strictly necessary. For those who are familiar with R &mdash; Python is syntactically similar to R, but differs from R in that it is more of an [object-oriented language](https://en.wikipedia.org/wiki/Object-oriented_programming), whereas R is more of a [functional language](https://en.wikipedia.org/wiki/Functional_programming). What this means in practice is that in Python, you'll see a lot of syntax that looks like `object.attribute`. For example, you might define a statistical model (the object), then access its coefficients (the attribute) by typing `model.coef`. In R, on the other hand, you typically use a function to get the parameters: `coef(model)`. In my experience, this isn't too difficult to adjust to.\n",
    "\n",
    "Python does have the upper hand, however, in that its deep learning packages are further developed and better supported than R's. Hence, most of our tutorials will be in Python. There are now R wrappers for Tensorflow and PyTorch, however, so I will also provide some R code for comparison.\n",
    "\n",
    "Just like in R, in Python you need to import the packages you intend to use. In Python, packages are imported as objects called *modules* that you are welcome to rename for convenience. The functions included in each package can be used by typing `module.function()` (with appropriate arguments); this may feel similar to typing `package::function()` in R.\n",
    "\n",
    "Let's begin by importing the deep learning packages we'll be using in this tutorial."
   ]
  },
  {
   "cell_type": "code",
   "execution_count": null,
   "id": "3d885892",
   "metadata": {},
   "outputs": [],
   "source": [
    "import tensorflow as tf\n",
    "from tensorflow import keras\n",
    "import torch"
   ]
  },
  {
   "cell_type": "markdown",
   "id": "44513ae9",
   "metadata": {},
   "source": [
    "## Tensors: The Fundamental Deep Learning Data Structure"
   ]
  },
  {
   "attachments": {
    "3d-tensor.jpg": {
     "image/jpeg": "[encoded data removed]"
    }
   },
   "cell_type": "markdown",
   "id": "a86f3cb1",
   "metadata": {},
   "source": [
    "Tensors are the basic objects used for computing in deep learning frameworks. In the deep learning context, a tensor is just a multidimensional array. In statistics, we usually only work with 0-dimensional arrays (scalars), 1-dimensional arrays (vectors), and 2-dimensional arrays (matrices):\n",
    "\n",
    "\\begin{equation}\n",
    "    \\underbrace{a}_{\\text{a scalar}}, \\qquad\n",
    "    \\mathbf{a} = \\underbrace{\\begin{bmatrix}\n",
    "        a_1 \\\\\n",
    "        a_2 \\\\\n",
    "        a_3 \\\\\n",
    "    \\end{bmatrix}}_{\\text{a vector}}, \\qquad\n",
    "    \\mathbf{A} = \\underbrace{\\begin{bmatrix}\n",
    "        a_{1, 1} & a_{1, 2} & a_{1, 3} \\\\\n",
    "        a_{2, 1} & a_{2, 2} & a_{2, 3} \\\\\n",
    "        a_{3, 1} & a_{3, 2} & a_{3, 3} \\\\\n",
    "    \\end{bmatrix}}_{\\text{a matrix}}.\n",
    "\\end{equation}\n",
    "\n",
    "In deep learning frameworks, however, arrays can have more dimensions than just two. For example, a 3-dimensional tensor is a stack of matrices:\n",
    "\n",
    "![3d-tensor.jpg](attachment:3d-tensor.jpg)\n",
    "\n",
    "As an example, we might use a 3D tensor to hold a longitudinal data set where we have 30 people answer 10 questions at 5 time points. In this case, we'd typically format our data as a $5 \\times 30 \\times 10$ tensor. This is rather elegant, because now instead of having a list of $5$ $30 \\times 10$ matrices that must be operated on separately, all our data is contained in a single array structure that we can perform operations on directly.\n",
    "\n",
    "Creating tensors in Keras/Tensorflow and PyTorch is straightforward."
   ]
  },
  {
   "cell_type": "markdown",
   "id": "472c642d",
   "metadata": {},
   "source": [
    "## Univariate Logistic Regression"
   ]
  },
  {
   "cell_type": "markdown",
   "id": "2ae3c4a2",
   "metadata": {},
   "source": [
    "Similar to the first lecture, we will begin by demonstrating some basic deep learning concepts using logistic regression. This will also help introduce the syntax used by Keras and PyTorch before getting into more complicated deep learning examples.\n",
    "\n",
    "Let's start with a simple univariate logistic regression model:\n",
    "\\begin{equation}\n",
    "    \\hat{y} = \\sigma(wx + b),\n",
    "\\end{equation}\n",
    "where $w$ is a slope, $x$ is a predictor, $b$ is an intercept, $\\sigma(z) = 1 / (1 + \\exp[-z])$ is the inverse logistic link or *sigmoid* function, and $\\hat{y}$ is the predicted probability that the outcome is equal to $1$. This is the model we used in lecture when we introduced backpropagation and stochastic gradient methods.\n",
    "\n",
    "We'll begin by defining this model using Keras. Keras is a high-level interface to [Tensorflow](https://www.tensorflow.org/), one of Python's major deep learning frameworks. In Keras and Tensorflow"
   ]
  },
  {
   "cell_type": "code",
   "execution_count": null,
   "id": "824e0163",
   "metadata": {},
   "outputs": [],
   "source": [
    "import numpy as np"
   ]
  },
  {
   "cell_type": "code",
   "execution_count": null,
   "id": "38610094",
   "metadata": {},
   "outputs": [],
   "source": [
    "from keras import (models,\n",
    "                   layers,\n",
    "                   activations)\n",
    "\n",
    "model = models.Sequential()\n",
    "model.add(layers.Dense(units = 1,\n",
    "                       activation = activations.sigmoid))"
   ]
  },
  {
   "cell_type": "markdown",
   "id": "8cef7b0d",
   "metadata": {},
   "source": [
    "### Backpropagation in Action"
   ]
  },
  {
   "cell_type": "code",
   "execution_count": null,
   "id": "6a04dc8f",
   "metadata": {},
   "outputs": [],
   "source": [
    "x = torch.tensor([6.])\n",
    "w = torch.tensor([-0.5], requires_grad = True)\n",
    "b = torch.tensor([3.], requires_grad = True)\n",
    "z = w * x + b; z.retain_grad()\n",
    "y_hat = z.sigmoid(); y_hat.retain_grad()\n",
    "y = torch.tensor([1.])\n",
    "L = -(y * y_hat.log() + (1 - y) * (1 - y_hat).log())"
   ]
  },
  {
   "cell_type": "markdown",
   "id": "e027e1c2",
   "metadata": {},
   "source": [
    "## Multivariate Logistic Regression"
   ]
  },
  {
   "cell_type": "markdown",
   "id": "67bdac2f",
   "metadata": {},
   "source": [
    "## Multilayer Perceptrons"
   ]
  },
  {
   "cell_type": "markdown",
   "id": "52aa814f",
   "metadata": {},
   "source": [
    "## Recurrent Neural Networks"
   ]
  },
  {
   "cell_type": "markdown",
   "id": "86a9d8ce",
   "metadata": {},
   "source": [
    "### The Vanishing Gradient Problem"
   ]
  },
  {
   "cell_type": "markdown",
   "id": "a928c4b2",
   "metadata": {},
   "source": [
    "### Gated Architectures: The Long Short-Term Memory Network"
   ]
  },
  {
   "cell_type": "markdown",
   "id": "91ac60ae",
   "metadata": {},
   "source": [
    "## Convolutional Neural Networks"
   ]
  },
  {
   "cell_type": "markdown",
   "id": "57ba7823",
   "metadata": {},
   "source": [
    "### Convolution to Find Image Edges"
   ]
  },
  {
   "cell_type": "markdown",
   "id": "197908e5",
   "metadata": {},
   "source": [
    "### Classifying Handwritten Digits"
   ]
  }
 ],
 "metadata": {
  "kernelspec": {
   "display_name": "Python 3 (ipykernel)",
   "language": "python",
   "name": "python3"
  },
  "language_info": {
   "codemirror_mode": {
    "name": "ipython",
    "version": 3
   },
   "file_extension": ".py",
   "mimetype": "text/x-python",
   "name": "python",
   "nbconvert_exporter": "python",
   "pygments_lexer": "ipython3",
   "version": "3.9.7"
  }
 },
 "nbformat": 4,
 "nbformat_minor": 5
}
